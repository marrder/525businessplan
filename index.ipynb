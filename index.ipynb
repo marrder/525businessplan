{
 "cells": [
  {
   "cell_type": "code",
   "execution_count": 60,
   "metadata": {},
   "outputs": [
    {
     "name": "stdout",
     "output_type": "stream",
     "text": [
      "Requirement already satisfied: pyjson5 in ./.venv/lib/python3.13/site-packages (1.6.8)\n",
      "Note: you may need to restart the kernel to use updated packages.\n"
     ]
    }
   ],
   "source": [
    "#%pip install openai\n",
    "#%pip install python-dotenv\n",
    "%pip install pyjson5\n",
    "import os\n",
    "import json\n",
    "from pprint import pprint, PrettyPrinter\n",
    "from typing import Optional\n",
    "from openai import OpenAI\n",
    "from dotenv import load_dotenv\n",
    "from pathlib import Path\n",
    "pp = PrettyPrinter(\n",
    "    indent=2,\n",
    "    width=1,        # Force maximum line breaks\n",
    "    depth=None,     # No depth limit\n",
    "    compact=False,  # Items on separate lines\n",
    "    sort_dicts=False # Preserve dictionary order\n",
    ")\n",
    "load_dotenv()\n",
    "client = OpenAI(\n",
    "  organization=os.getenv(\"OPENAI_ORGANIZATION\"),\n",
    "  project=os.getenv(\"OPENAI_PROJECT\")\n",
    ")\n",
    "\n",
    "#current_directory = os.getcwd('../')\n",
    "#plan_name = \"-\".join( (parts := current_directory.split('/'))[parts.index(\"plans\"):] )\n"
   ]
  },
  {
   "cell_type": "code",
   "execution_count": 61,
   "metadata": {},
   "outputs": [],
   "source": [
    "def build_nested_structure(root_path: str, parent_id: str = None) -> dict:\n",
    "    \"\"\"\n",
    "    Recursively builds a nested object structure from a directory path,\n",
    "    incorporating index.json contents at each level.\n",
    "    \"\"\"\n",
    "    root = Path(root_path)\n",
    "    base_name = root.name\n",
    "    current_id = base_name if parent_id is None else f\"{parent_id}-{base_name}\"\n",
    "    \n",
    "    # Initialize with ID\n",
    "    structure = {\"id\": current_id}\n",
    "    \n",
    "    # Check for and read index.json\n",
    "    index_path = root / \"index.json\"\n",
    "    if index_path.exists():\n",
    "        try:\n",
    "            with open(index_path) as f:\n",
    "                index_data = json.load(f)\n",
    "                structure.update(index_data)\n",
    "        except (json.JSONDecodeError, Exception) as e:\n",
    "            print(f\"Warning: Error with index.json in {root_path}: {str(e)}\")\n",
    "    \n",
    "    # Get subdirectories\n",
    "    subdirs = [d for d in root.iterdir() if d.is_dir()]\n",
    "    if subdirs:\n",
    "        structure[\"pods\"] = {\"items\": []}\n",
    "        for subdir in subdirs:\n",
    "            sub_structure = build_nested_structure(str(subdir), current_id)\n",
    "            structure[\"pods\"][\"items\"].append(sub_structure)\n",
    "            \n",
    "    return structure"
   ]
  },
  {
   "cell_type": "code",
   "execution_count": 63,
   "metadata": {},
   "outputs": [
    {
     "name": "stdout",
     "output_type": "stream",
     "text": [
      "{\n",
      "  \"id\": \"plans\",\n",
      "  \"pods\": {\n",
      "    \"items\": [\n",
      "      {\n",
      "        \"id\": \"plans-plan\"\n",
      "      },\n",
      "      {\n",
      "        \"id\": \"plans-agent\",\n",
      "        \"pods\": {\n",
      "          \"items\": [\n",
      "            {\n",
      "              \"id\": \"plans-agent-product_owner\",\n",
      "              \"pods\": {\n",
      "                \"items\": [\n",
      "                  {\n",
      "                    \"id\": \"plans-agent-product_owner-scrum_master\",\n",
      "                    \"pods\": {\n",
      "                      \"items\": [\n",
      "                        {\n",
      "                          \"id\": \"plans-agent-product_owner-scrum_master-developer\"\n",
      "                        },\n",
      "                        {\n",
      "                          \"id\": \"plans-agent-product_owner-scrum_master-researcher\",\n",
      "                          \"desc\": \"You are the Product Owner, a key role in the Scrum framework responsible for maximizing the value of the product. Your primary focus is on defining and prioritizing work based on business goals and customer needs. You act as the bridge between stakeholders, the development team, and the end users. Your decisions shape the product roadmap, ensuring that every feature contributes to overall success.\"\n",
      "                        }\n",
      "                      ]\n",
      "                    }\n",
      "                  }\n",
      "                ]\n",
      "              }\n",
      "            }\n",
      "          ]\n",
      "        }\n",
      "      }\n",
      "    ]\n",
      "  }\n",
      "}\n"
     ]
    }
   ],
   "source": [
    "if __name__ == \"__main__\":\n",
    "    result = build_nested_structure(\"plans\")\n",
    "    print(json.dumps(result, indent=2))"
   ]
  },
  {
   "cell_type": "code",
   "execution_count": 59,
   "metadata": {},
   "outputs": [],
   "source": [
    "def initialize_thread(client: OpenAI, name: Optional[str] = None) -> str:\n",
    "    try:\n",
    "        # Create new thread with metadata\n",
    "        thread = client.beta.threads.create(\n",
    "            metadata={\n",
    "                \"name\": name\n",
    "            } if name else None\n",
    "        )\n",
    "        return thread.id\n",
    "        \n",
    "    except Exception as e:\n",
    "        raise Exception(f\"Failed to initialize thread: {str(e)}\")"
   ]
  },
  {
   "cell_type": "code",
   "execution_count": 45,
   "metadata": {},
   "outputs": [
    {
     "ename": "NameError",
     "evalue": "name 'plan_name' is not defined",
     "output_type": "error",
     "traceback": [
      "\u001b[0;31m---------------------------------------------------------------------------\u001b[0m",
      "\u001b[0;31mNameError\u001b[0m                                 Traceback (most recent call last)",
      "Cell \u001b[0;32mIn[45], line 1\u001b[0m\n\u001b[0;32m----> 1\u001b[0m thread_id \u001b[38;5;241m=\u001b[39m initialize_thread(client, \u001b[43mplan_name\u001b[49m)\n",
      "\u001b[0;31mNameError\u001b[0m: name 'plan_name' is not defined"
     ]
    }
   ],
   "source": [
    "thread_id = initialize_thread(client, plan_name)"
   ]
  },
  {
   "cell_type": "code",
   "execution_count": 20,
   "metadata": {},
   "outputs": [
    {
     "name": "stdout",
     "output_type": "stream",
     "text": [
      "thread_ItiqszTHSeEGmsFtlB3zRycf\n"
     ]
    }
   ],
   "source": [
    "print(thread_id)"
   ]
  },
  {
   "cell_type": "code",
   "execution_count": null,
   "metadata": {},
   "outputs": [],
   "source": []
  },
  {
   "cell_type": "code",
   "execution_count": 10,
   "metadata": {},
   "outputs": [
    {
     "name": "stdout",
     "output_type": "stream",
     "text": [
      "This is a test. How can I assist you today?"
     ]
    }
   ],
   "source": [
    "stream = client.chat.completions.create(\n",
    "    model=\"gpt-4o-mini\",\n",
    "    messages=[{\"role\": \"user\", \"content\": \"Say this is a test\"}],\n",
    "    stream=True,\n",
    ")\n",
    "for chunk in stream:\n",
    "    if chunk.choices[0].delta.content is not None:\n",
    "        print(chunk.choices[0].delta.content, end=\"\")"
   ]
  },
  {
   "cell_type": "code",
   "execution_count": null,
   "metadata": {},
   "outputs": [],
   "source": []
  },
  {
   "cell_type": "code",
   "execution_count": null,
   "metadata": {},
   "outputs": [],
   "source": []
  }
 ],
 "metadata": {
  "kernelspec": {
   "display_name": ".venv",
   "language": "python",
   "name": "python3"
  },
  "language_info": {
   "codemirror_mode": {
    "name": "ipython",
    "version": 3
   },
   "file_extension": ".py",
   "mimetype": "text/x-python",
   "name": "python",
   "nbconvert_exporter": "python",
   "pygments_lexer": "ipython3",
   "version": "3.13.1"
  }
 },
 "nbformat": 4,
 "nbformat_minor": 2
}
